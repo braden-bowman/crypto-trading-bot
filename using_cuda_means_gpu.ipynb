{
 "cells": [
  {
   "cell_type": "code",
   "execution_count": 1,
   "id": "b3dd7c69-52f7-4bf9-9b75-8b11e44a9c7c",
   "metadata": {
    "execution": {
     "iopub.execute_input": "2024-07-10T02:25:27.728342Z",
     "iopub.status.busy": "2024-07-10T02:25:27.727831Z",
     "iopub.status.idle": "2024-07-10T02:25:28.338408Z",
     "shell.execute_reply": "2024-07-10T02:25:28.338008Z",
     "shell.execute_reply.started": "2024-07-10T02:25:27.728296Z"
    }
   },
   "outputs": [
    {
     "name": "stdout",
     "output_type": "stream",
     "text": [
      "Using device: cuda\n"
     ]
    }
   ],
   "source": [
    "import torch\n",
    "\n",
    "device = torch.device(\"cuda\" if torch.cuda.is_available() else \"cpu\")\n",
    "print(f\"Using device: {device}\")"
   ]
  },
  {
   "cell_type": "code",
   "execution_count": null,
   "id": "7bfd1e63-4839-4f81-abd9-b7f2a7366647",
   "metadata": {},
   "outputs": [],
   "source": []
  }
 ],
 "metadata": {
  "kernelspec": {
   "display_name": "Python 3 (ipykernel)",
   "language": "python",
   "name": "python3"
  },
  "language_info": {
   "codemirror_mode": {
    "name": "ipython",
    "version": 3
   },
   "file_extension": ".py",
   "mimetype": "text/x-python",
   "name": "python",
   "nbconvert_exporter": "python",
   "pygments_lexer": "ipython3",
   "version": "3.10.14"
  }
 },
 "nbformat": 4,
 "nbformat_minor": 5
}
