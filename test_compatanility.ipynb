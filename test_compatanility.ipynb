{
 "cells": [
  {
   "cell_type": "code",
   "execution_count": null,
   "id": "202ddc12-90e0-4d7c-93f3-642f15c224df",
   "metadata": {},
   "outputs": [],
   "source": [
    "# test_compatibility.py\n",
    "\n",
    "import numpy as np\n",
    "print(\"Numpy version:\", np.__version__)\n",
    "\n",
    "try:\n",
    "    import talib\n",
    "    print(\"TA-Lib version:\", talib.__version__)\n",
    "except ValueError as e:\n",
    "    print(\"TA-Lib import error:\", e)\n"
   ]
  },
  {
   "cell_type": "code",
   "execution_count": 3,
   "id": "697f59e1-4edf-4c49-ba45-704290f49bbd",
   "metadata": {
    "execution": {
     "iopub.execute_input": "2024-07-10T04:49:09.495624Z",
     "iopub.status.busy": "2024-07-10T04:49:09.495439Z",
     "iopub.status.idle": "2024-07-10T04:49:09.498310Z",
     "shell.execute_reply": "2024-07-10T04:49:09.497614Z",
     "shell.execute_reply.started": "2024-07-10T04:49:09.495613Z"
    }
   },
   "outputs": [
    {
     "name": "stdout",
     "output_type": "stream",
     "text": [
      "Numpy version: 1.23.5\n",
      "pandas_ta version: 0.3.14b0\n"
     ]
    }
   ],
   "source": [
    "# Compatibility Test Script\n",
    "\n",
    "import numpy as np\n",
    "print(\"Numpy version:\", np.__version__)\n",
    "\n",
    "try:\n",
    "    import pandas_ta as ta\n",
    "    print(\"pandas_ta version:\", ta.__version__)\n",
    "except ImportError as e:\n",
    "    print(\"pandas_ta import error:\", e)\n"
   ]
  },
  {
   "cell_type": "code",
   "execution_count": null,
   "id": "11961fc1-823c-4f09-9f9f-5d58c7303b0d",
   "metadata": {},
   "outputs": [],
   "source": []
  }
 ],
 "metadata": {
  "kernelspec": {
   "display_name": "Python 3 (ipykernel)",
   "language": "python",
   "name": "python3"
  },
  "language_info": {
   "codemirror_mode": {
    "name": "ipython",
    "version": 3
   },
   "file_extension": ".py",
   "mimetype": "text/x-python",
   "name": "python",
   "nbconvert_exporter": "python",
   "pygments_lexer": "ipython3",
   "version": "3.10.14"
  }
 },
 "nbformat": 4,
 "nbformat_minor": 5
}
